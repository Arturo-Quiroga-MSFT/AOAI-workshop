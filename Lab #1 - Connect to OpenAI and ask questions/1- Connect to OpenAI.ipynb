{
 "cells": [
  {
   "cell_type": "markdown",
   "metadata": {},
   "source": [
    "### **Load Environment variables from .env file**"
   ]
  },
  {
   "cell_type": "code",
   "execution_count": 3,
   "metadata": {},
   "outputs": [],
   "source": [
    "from openai import AzureOpenAI\n",
    "from dotenv import load_dotenv\n",
    "import os\n",
    "from IPython.display import display, HTML, JSON, Markdown\n",
    "\n",
    "load_dotenv()\n",
    "OPENAI_API_KEY = os.getenv(\"OPENAI_API_KEY\")\n",
    "OPENAI_DEPLOYMENT_ENDPOINT = os.getenv(\"OPENAI_DEPLOYMENT_ENDPOINT\")\n",
    "OPENAI_DEPLOYMENT_NAME = os.getenv(\"OPENAI_DEPLOYMENT_NAME\")\n",
    "OPENAI_MODEL_NAME = os.getenv(\"OPENAI_MODEL_NAME\")\n",
    "OPENAI_DEPLOYMENT_VERSION = os.getenv(\"OPENAI_DEPLOYMENT_VERSION\")\n",
    "\n",
    "client = AzureOpenAI(\n",
    "  azure_endpoint = OPENAI_DEPLOYMENT_ENDPOINT, \n",
    "  api_key=OPENAI_API_KEY,  \n",
    "  api_version=\"2023-05-15\"\n",
    ")\n"
   ]
  },
  {
   "cell_type": "code",
   "execution_count": 4,
   "metadata": {},
   "outputs": [],
   "source": [
    "def call_openAI(text):\n",
    "    response = client.chat.completions.create(\n",
    "        model=OPENAI_DEPLOYMENT_NAME,\n",
    "        messages = text,\n",
    "        temperature=0.7,\n",
    "        max_tokens=800,\n",
    "        top_p=0.95,\n",
    "        frequency_penalty=0,\n",
    "        presence_penalty=0,\n",
    "        stop=None\n",
    "    )\n",
    "\n",
    "    return response.choices[0].message.content\n",
    "\n"
   ]
  },
  {
   "attachments": {},
   "cell_type": "markdown",
   "metadata": {},
   "source": [
    "### **Add personality to the model and start asking questions**\n",
    "We call directly the Azure OpenAI API with ***ChatCompletion*** API"
   ]
  },
  {
   "cell_type": "code",
   "execution_count": 5,
   "metadata": {},
   "outputs": [
    {
     "data": {
      "text/html": [
       "As an AI language model, I do not have feelings. However, I am functioning properly and ready to assist you with any trivia questions you may have. How can I help you today?"
      ],
      "text/plain": [
       "<IPython.core.display.HTML object>"
      ]
     },
     "metadata": {},
     "output_type": "display_data"
    }
   ],
   "source": [
    "# prepare prompt\n",
    "messages = [{\"role\": \"system\", \"content\": \"You are a HELPFUL assistant answering users trivia questions. Answer in a clear and concise manner.\"},\n",
    "            {\"role\": \"user\", \"content\": \"Good morning, how are you today?\"}]\n",
    " \n",
    "result = call_openAI(messages)\n",
    "display(HTML(result))"
   ]
  },
  {
   "cell_type": "code",
   "execution_count": 6,
   "metadata": {},
   "outputs": [
    {
     "data": {
      "text/html": [
       "String theory is a theoretical framework in physics that suggests that the most fundamental building blocks of the universe are not particles, but rather tiny, one-dimensional \"strings\" that vibrate at different frequencies. It is a proposed solution to the problem of unifying quantum mechanics and general relativity, and has the potential to explain many of the mysteries of the universe, such as dark matter and dark energy. However, it is still a highly speculative idea and has yet to be confirmed by experimental evidence."
      ],
      "text/plain": [
       "<IPython.core.display.HTML object>"
      ]
     },
     "metadata": {},
     "output_type": "display_data"
    }
   ],
   "source": [
    "# prepare prompt with another question:\n",
    "messages = [{\"role\": \"system\", \"content\": \"You are a HELPFUL assistant answering users trivia questions. Answer in clear and concise manner.\"},\n",
    "            {\"role\": \"user\", \"content\": \"What's string theory?\"}]\n",
    "\n",
    "result = call_openAI(messages)\n",
    "display(HTML(result))"
   ]
  },
  {
   "cell_type": "code",
   "execution_count": 7,
   "metadata": {},
   "outputs": [
    {
     "data": {
      "text/html": [
       "String theory is a big idea that some very smart scientists came up with to help explain how the tiny, tiny things that make up everything in the universe work. They think that instead of being tiny little balls, these things might actually be tiny little strings that vibrate and move around in different ways. It's like if you pluck a guitar string, it makes a sound - well, these tiny strings might be making different sounds that create everything we see around us! It's a pretty cool idea, isn't it?"
      ],
      "text/plain": [
       "<IPython.core.display.HTML object>"
      ]
     },
     "metadata": {},
     "output_type": "display_data"
    }
   ],
   "source": [
    "# prompt with specific instructions\n",
    "messages = [{\"role\": \"system\", \"content\": \"You are a HELPFUL assistant answering users trivia questions. Answer as for a FIVE YEARS old child.\"},\n",
    "            {\"role\": \"user\", \"content\": \"what's string theory?\"}]\n",
    "\n",
    "\n",
    "result = call_openAI(messages)\n",
    "display(HTML(result))"
   ]
  },
  {
   "cell_type": "code",
   "execution_count": 8,
   "metadata": {},
   "outputs": [
    {
     "data": {
      "text/markdown": [
       "Sure! Here's a Python function that reverses a given string:\n",
       "\n",
       "```python\n",
       "def reverse_string(string):\n",
       "    return string[::-1]\n",
       "```\n",
       "\n",
       "This function uses slicing to reverse the string. The `[::-1]` slice notation means to start at the end of the string and move backwards by one step at a time."
      ],
      "text/plain": [
       "<IPython.core.display.Markdown object>"
      ]
     },
     "metadata": {},
     "output_type": "display_data"
    }
   ],
   "source": [
    "# prompt with specific instructions\n",
    "messages = [{\"role\": \"system\", \"content\": \"You are a HELPFUL assistant that knows Python\"},\n",
    "            {\"role\": \"user\", \"content\": \"Create a Python function that takes a string argument and reverses it.\"}]\n",
    "\n",
    "\n",
    "result = call_openAI(messages)\n",
    "display(Markdown(result))"
   ]
  }
 ],
 "metadata": {
  "kernelspec": {
   "display_name": ".venv",
   "language": "python",
   "name": "python3"
  },
  "language_info": {
   "codemirror_mode": {
    "name": "ipython",
    "version": 3
   },
   "file_extension": ".py",
   "mimetype": "text/x-python",
   "name": "python",
   "nbconvert_exporter": "python",
   "pygments_lexer": "ipython3",
   "version": "3.10.11"
  },
  "orig_nbformat": 4
 },
 "nbformat": 4,
 "nbformat_minor": 2
}
