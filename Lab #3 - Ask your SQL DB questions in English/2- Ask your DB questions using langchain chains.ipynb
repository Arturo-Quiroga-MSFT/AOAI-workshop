{
 "cells": [
  {
   "attachments": {},
   "cell_type": "markdown",
   "metadata": {},
   "source": [
    "### DESCRIPTION:\n",
    "    This example shows how to retrieve data from Azure SQL DB by using Open AI GPT.  \n",
    "    Asking questions in plain english that gets \"translated\" by GPT into SQL.\n",
    "    Using Langchain SQLDatabaseChain \n",
    "### REQUIREMENTS:\n",
    "    1. Create an Azure SQL DB and populate it with data.\n",
    "    2. Create an .env file in the root folder with the following variables:\n",
    "      SQL_SERVER=\"<server>\"\n",
    "      SQL_USER=\"<user>\"\n",
    "      SQL_PWD=\"<pwd>\"\n",
    "      SQL_DBNAME=\"<dbname>\"\n",
    "\n",
    "### Sample questions you can ask:\n",
    "      List the tables in the database\n",
    "      How many products are in the Adventure Works database?\n",
    "      How many Products are color black?\n",
    "      How many SalesOrderDetail are for the Product AWC Logo Cap ?\n",
    "      List the top 10 most expensive products\n",
    "      What are the top 10 highest grossing products in the Adventure Works database?\n",
    "\n",
    "### For more information about Langchain agent toolkits, see:\n",
    "  https://github.com/hwchase17/langchain/tree/master/langchain/agents/agent_toolkits\n"
   ]
  },
  {
   "cell_type": "code",
   "execution_count": 1,
   "metadata": {},
   "outputs": [],
   "source": [
    "from langchain.llms import AzureOpenAI\n",
    "from langchain.chat_models import ChatOpenAI\n",
    "from langchain.utilities import SQLDatabase\n",
    "from langchain.chains import create_sql_query_chain\n",
    "from dotenv import load_dotenv\n",
    "import openai\n",
    "import os\n",
    "\n",
    "load_dotenv()\n",
    "OPENAI_API_KEY = os.getenv(\"OPENAI_API_KEY\") \n",
    "OPENAI_DEPLOYMENT_ENDPOINT = os.getenv(\"OPENAI_DEPLOYMENT_ENDPOINT\")\n",
    "OPENAI_DEPLOYMENT_NAME = os.getenv(\"OPENAI_DEPLOYMENT_NAME\")\n",
    "OPENAI_MODEL_NAME = os.getenv(\"OPENAI_MODEL_NAME\")\n",
    "OPENAI_DEPLOYMENT_VERSION = os.getenv(\"OPENAI_DEPLOYMENT_VERSION\")\n",
    "\n",
    "SQL_SERVER = os.getenv(\"SQL_SERVER\")\n",
    "SQL_USER = os.getenv(\"SQL_USER\")\n",
    "SQL_PWD = os.getenv(\"SQL_PWD\")\n",
    "SQL_DBNAME = os.getenv(\"SQL_DBNAME\")\n",
    "\n",
    "# Configure OpenAI API\n",
    "openai.api_type = \"azure\"\n",
    "openai.api_version = OPENAI_DEPLOYMENT_VERSION\n",
    "openai.api_base = OPENAI_DEPLOYMENT_ENDPOINT\n",
    "openai.api_key = OPENAI_API_KEY"
   ]
  },
  {
   "cell_type": "code",
   "execution_count": 8,
   "metadata": {},
   "outputs": [
    {
     "name": "stderr",
     "output_type": "stream",
     "text": [
      "c:\\Users\\dschlesinger\\code\\ongoing\\workshops\\AOAI-workshop\\.venv\\lib\\site-packages\\langchain\\llms\\openai.py:853: UserWarning: As of openai>=1.0.0, Azure endpoints should be specified via the `azure_endpoint` param not `openai_api_base` (or alias `base_url`). Updating `openai_api_base` from https://aidemos-workshop.openai.azure.com/ to https://aidemos-workshop.openai.azure.com/openai.\n",
      "  warnings.warn(\n",
      "c:\\Users\\dschlesinger\\code\\ongoing\\workshops\\AOAI-workshop\\.venv\\lib\\site-packages\\langchain\\llms\\openai.py:860: UserWarning: As of openai>=1.0.0, if `deployment_name` (or alias `azure_deployment`) is specified then `openai_api_base` (or alias `base_url`) should not be. Instead use `deployment_name` (or alias `azure_deployment`) and `azure_endpoint`.\n",
      "  warnings.warn(\n",
      "c:\\Users\\dschlesinger\\code\\ongoing\\workshops\\AOAI-workshop\\.venv\\lib\\site-packages\\langchain\\llms\\openai.py:868: UserWarning: As of openai>=1.0.0, if `openai_api_base` (or alias `base_url`) is specified it is expected to be of the form https://example-resource.azure.openai.com/openai/deployments/example-deployment. Updating https://aidemos-workshop.openai.azure.com/ to https://aidemos-workshop.openai.azure.com/openai.\n",
      "  warnings.warn(\n"
     ]
    }
   ],
   "source": [
    "def init_llm(model=OPENAI_MODEL_NAME,\n",
    "             deployment_name=OPENAI_DEPLOYMENT_NAME,\n",
    "             openai_api_version=OPENAI_DEPLOYMENT_VERSION,\n",
    "             temperature=0,\n",
    "             max_tokens=400,\n",
    "             top_p=1,\n",
    "             ):\n",
    "\n",
    "    llm = AzureOpenAI(deployment_name=deployment_name,\n",
    "                      model=model,\n",
    "                      openai_api_version=openai_api_version,\n",
    "                      base_url=OPENAI_DEPLOYMENT_ENDPOINT,\n",
    "                      temperature=temperature,\n",
    "                      max_tokens=max_tokens,\n",
    "                      top_p=top_p,\n",
    "                    #   model_kwargs={\"stop\": [\"<|im_end|>\"]}\n",
    "                      )\n",
    "    return llm\n",
    "llm = init_llm()"
   ]
  },
  {
   "cell_type": "markdown",
   "metadata": {},
   "source": [
    "### Generate SQL and then run in DB"
   ]
  },
  {
   "cell_type": "code",
   "execution_count": 9,
   "metadata": {},
   "outputs": [],
   "source": [
    "# initialize azure OpenAI\n",
    "sqlconn = f\"mssql+pymssql://{SQL_USER}:{SQL_PWD}@{SQL_SERVER}:1433/{SQL_DBNAME}\"\n",
    "db = SQLDatabase.from_uri(sqlconn)\n",
    "chain = create_sql_query_chain(llm, db)"
   ]
  },
  {
   "cell_type": "code",
   "execution_count": 12,
   "metadata": {},
   "outputs": [
    {
     "name": "stdout",
     "output_type": "stream",
     "text": [
      "Query generated by OpenAI: SELECT COUNT(*) FROM [SalesLT].[Product]\n"
     ]
    }
   ],
   "source": [
    "# generate SQL from question in English\n",
    "query = chain.invoke({\"question\":\"How many products are in the Adventure Works database using SalesLT schema?\"})\n",
    "print(\"Query generated by OpenAI: \" + query)"
   ]
  },
  {
   "cell_type": "code",
   "execution_count": 13,
   "metadata": {},
   "outputs": [
    {
     "data": {
      "text/plain": [
       "'[(295,)]'"
      ]
     },
     "execution_count": 13,
     "metadata": {},
     "output_type": "execute_result"
    }
   ],
   "source": [
    "#run generated SQL in DB\n",
    "db.run(query)"
   ]
  },
  {
   "cell_type": "code",
   "execution_count": 14,
   "metadata": {},
   "outputs": [
    {
     "name": "stdout",
     "output_type": "stream",
     "text": [
      "Query generated by OpenAI: SELECT TOP 10 [Name], [ListPrice] FROM [SalesLT].[Product] ORDER BY [ListPrice] DESC\n"
     ]
    }
   ],
   "source": [
    "# generate SQL from question in English\n",
    "query = chain.invoke({\"question\":\"List the top 10 most expensive products using SalesLT schema\"})\n",
    "print(\"Query generated by OpenAI: \" + query)"
   ]
  },
  {
   "cell_type": "code",
   "execution_count": 15,
   "metadata": {},
   "outputs": [
    {
     "data": {
      "text/plain": [
       "\"[('Road-150 Red, 62', Decimal('3578.2700')), ('Road-150 Red, 44', Decimal('3578.2700')), ('Road-150 Red, 48', Decimal('3578.2700')), ('Road-150 Red, 52', Decimal('3578.2700')), ('Road-150 Red, 56', Decimal('3578.2700')), ('Mountain-100 Silver, 38', Decimal('3399.9900')), ('Mountain-100 Silver, 42', Decimal('3399.9900')), ('Mountain-100 Silver, 44', Decimal('3399.9900')), ('Mountain-100 Silver, 48', Decimal('3399.9900')), ('Mountain-100 Black, 38', Decimal('3374.9900'))]\""
      ]
     },
     "execution_count": 15,
     "metadata": {},
     "output_type": "execute_result"
    }
   ],
   "source": [
    "#run generated SQL in DB\n",
    "db.run(query)"
   ]
  }
 ],
 "metadata": {
  "kernelspec": {
   "display_name": ".venv",
   "language": "python",
   "name": "python3"
  },
  "language_info": {
   "codemirror_mode": {
    "name": "ipython",
    "version": 3
   },
   "file_extension": ".py",
   "mimetype": "text/x-python",
   "name": "python",
   "nbconvert_exporter": "python",
   "pygments_lexer": "ipython3",
   "version": "3.10.11"
  },
  "orig_nbformat": 4
 },
 "nbformat": 4,
 "nbformat_minor": 2
}
