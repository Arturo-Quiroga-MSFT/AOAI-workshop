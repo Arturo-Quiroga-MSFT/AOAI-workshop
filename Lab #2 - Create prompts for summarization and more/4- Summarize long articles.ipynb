{
 "cells": [
  {
   "cell_type": "code",
   "execution_count": 5,
   "metadata": {},
   "outputs": [
    {
     "name": "stderr",
     "output_type": "stream",
     "text": [
      "c:\\Users\\dschlesinger\\code\\ongoing\\workshops\\AOAI-workshop\\.venv\\lib\\site-packages\\langchain\\llms\\openai.py:853: UserWarning: As of openai>=1.0.0, Azure endpoints should be specified via the `azure_endpoint` param not `openai_api_base` (or alias `base_url`). Updating `openai_api_base` from https://aidemos-workshop.openai.azure.com/ to https://aidemos-workshop.openai.azure.com/openai.\n",
      "  warnings.warn(\n",
      "c:\\Users\\dschlesinger\\code\\ongoing\\workshops\\AOAI-workshop\\.venv\\lib\\site-packages\\langchain\\llms\\openai.py:860: UserWarning: As of openai>=1.0.0, if `deployment_name` (or alias `azure_deployment`) is specified then `openai_api_base` (or alias `base_url`) should not be. Instead use `deployment_name` (or alias `azure_deployment`) and `azure_endpoint`.\n",
      "  warnings.warn(\n",
      "c:\\Users\\dschlesinger\\code\\ongoing\\workshops\\AOAI-workshop\\.venv\\lib\\site-packages\\langchain\\llms\\openai.py:868: UserWarning: As of openai>=1.0.0, if `openai_api_base` (or alias `base_url`) is specified it is expected to be of the form https://example-resource.azure.openai.com/openai/deployments/example-deployment. Updating https://aidemos-workshop.openai.azure.com/ to https://aidemos-workshop.openai.azure.com/openai.\n",
      "  warnings.warn(\n"
     ]
    }
   ],
   "source": [
    "from dotenv import load_dotenv\n",
    "import os\n",
    "from langchain.llms import AzureOpenAI\n",
    "import textwrap\n",
    "from IPython.display import display, HTML, JSON, Markdown\n",
    "load_dotenv()\n",
    "\n",
    "OPENAI_API_KEY = os.getenv(\"OPENAI_API_KEY\") \n",
    "OPENAI_DEPLOYMENT_ENDPOINT = os.getenv(\"OPENAI_DEPLOYMENT_ENDPOINT\")\n",
    "OPENAI_DEPLOYMENT_NAME = os.getenv(\"OPENAI_DEPLOYMENT_NAME\")\n",
    "OPENAI_MODEL_NAME = os.getenv(\"OPENAI_MODEL_NAME\")\n",
    "OPENAI_DEPLOYMENT_VERSION = os.getenv(\"OPENAI_DEPLOYMENT_VERSION\")\n",
    "\n",
    "llm = AzureOpenAI(\n",
    "    deployment_name=OPENAI_DEPLOYMENT_NAME,\n",
    "    model_name=OPENAI_MODEL_NAME,\n",
    "    api_version=\"2023-05-15\",\n",
    "    openai_api_base=OPENAI_DEPLOYMENT_ENDPOINT,\n",
    ")"
   ]
  },
  {
   "cell_type": "code",
   "execution_count": 7,
   "metadata": {},
   "outputs": [
    {
     "name": "stdout",
     "output_type": "stream",
     "text": [
      "Number of pages:  367\n"
     ]
    }
   ],
   "source": [
    "from langchain import PromptTemplate\n",
    "from langchain.chains.summarize import load_summarize_chain\n",
    "from langchain.document_loaders import PyPDFLoader\n",
    "\n",
    "fileName = \"./data/Best-Practices-in-Change-Management-Full-Report-Digital-11th-Edition.pdf\"\n",
    "loader = PyPDFLoader(fileName)\n",
    "pages = loader.load_and_split()\n",
    "print(\"Number of pages: \", len(pages))"
   ]
  },
  {
   "cell_type": "code",
   "execution_count": 8,
   "metadata": {},
   "outputs": [],
   "source": [
    "map_prompt_template = \"\"\"\n",
    "                      Write a summary of this chunk of text that includes the main points and any important details.\n",
    "                      {text}\n",
    "                      \"\"\"\n",
    "\n",
    "map_prompt = PromptTemplate(template=map_prompt_template, input_variables=[\"text\"])\n",
    "\n",
    "combine_prompt_template = \"\"\"\n",
    "                      Write a concise summary of the following text delimited by triple backquotes.\n",
    "                      Return your response in bullet points which covers the key points of the text.\n",
    "                      ```{text}```\n",
    "                      BULLET POINT SUMMARY:\n",
    "                      \"\"\"\n",
    "\n",
    "combine_prompt = PromptTemplate(\n",
    "    template=combine_prompt_template, input_variables=[\"text\"]\n",
    ")"
   ]
  },
  {
   "cell_type": "code",
   "execution_count": 9,
   "metadata": {},
   "outputs": [],
   "source": [
    "map_reduce_chain = load_summarize_chain(\n",
    "    llm,\n",
    "    chain_type=\"map_reduce\",\n",
    "    map_prompt=map_prompt,\n",
    "    combine_prompt=combine_prompt,\n",
    "    return_intermediate_steps=True,\n",
    ")"
   ]
  },
  {
   "cell_type": "code",
   "execution_count": null,
   "metadata": {},
   "outputs": [],
   "source": [
    "map_reduce_outputs = map_reduce_chain({\"input_documents\": pages})\n",
    "print(\"Number of outputs: \", len(map_reduce_outputs))"
   ]
  },
  {
   "cell_type": "code",
   "execution_count": 15,
   "metadata": {},
   "outputs": [
    {
     "data": {
      "text/html": [
       "<div>\n",
       "<style scoped>\n",
       "    .dataframe tbody tr th:only-of-type {\n",
       "        vertical-align: middle;\n",
       "    }\n",
       "\n",
       "    .dataframe tbody tr th {\n",
       "        vertical-align: top;\n",
       "    }\n",
       "\n",
       "    .dataframe thead th {\n",
       "        text-align: right;\n",
       "    }\n",
       "</style>\n",
       "<table border=\"1\" class=\"dataframe\">\n",
       "  <thead>\n",
       "    <tr style=\"text-align: right;\">\n",
       "      <th></th>\n",
       "      <th>file_name</th>\n",
       "      <th>file_type</th>\n",
       "      <th>page_number</th>\n",
       "      <th>chunks</th>\n",
       "      <th>concise_summary</th>\n",
       "    </tr>\n",
       "  </thead>\n",
       "  <tbody>\n",
       "    <tr>\n",
       "      <th>0</th>\n",
       "      <td>Best-Practices-in-Change-Management-Full-Repor...</td>\n",
       "      <td>.pdf</td>\n",
       "      <td>0</td>\n",
       "      <td>11th EditionBest Practices In  \\nChange Manage...</td>\n",
       "      <td>\\n\\nThe 11th edition of Prosci's benchmarking ...</td>\n",
       "    </tr>\n",
       "    <tr>\n",
       "      <th>1</th>\n",
       "      <td>Best-Practices-in-Change-Management-Full-Repor...</td>\n",
       "      <td>.pdf</td>\n",
       "      <td>1</td>\n",
       "      <td>© 2020 Prosci Inc.  •  1\\nProsci ®    Best Pra...</td>\n",
       "      <td>\\n \\n \\n \\n \\n                        Write a ...</td>\n",
       "    </tr>\n",
       "    <tr>\n",
       "      <th>2</th>\n",
       "      <td>Best-Practices-in-Change-Management-Full-Repor...</td>\n",
       "      <td>.pdf</td>\n",
       "      <td>3</td>\n",
       "      <td>© 2020 Prosci Inc.  •  3\\nProsci ®    Best Pra...</td>\n",
       "      <td>© 2020 Prosci Inc.  •  4Prosci ®    Best Prac...</td>\n",
       "    </tr>\n",
       "    <tr>\n",
       "      <th>3</th>\n",
       "      <td>Best-Practices-in-Change-Management-Full-Repor...</td>\n",
       "      <td>.pdf</td>\n",
       "      <td>3</td>\n",
       "      <td>Chapter 6 : Methodology  ........................</td>\n",
       "      <td>The methodology used to implement a change ma...</td>\n",
       "    </tr>\n",
       "    <tr>\n",
       "      <th>4</th>\n",
       "      <td>Best-Practices-in-Change-Management-Full-Repor...</td>\n",
       "      <td>.pdf</td>\n",
       "      <td>4</td>\n",
       "      <td>4  •  © 2020 Prosci Inc. \\nChapter 8 : Change ...</td>\n",
       "      <td>Chapter 8: Change Management Activities\\nThis...</td>\n",
       "    </tr>\n",
       "  </tbody>\n",
       "</table>\n",
       "</div>"
      ],
      "text/plain": [
       "                                           file_name file_type  page_number  \\\n",
       "0  Best-Practices-in-Change-Management-Full-Repor...      .pdf            0   \n",
       "1  Best-Practices-in-Change-Management-Full-Repor...      .pdf            1   \n",
       "2  Best-Practices-in-Change-Management-Full-Repor...      .pdf            3   \n",
       "3  Best-Practices-in-Change-Management-Full-Repor...      .pdf            3   \n",
       "4  Best-Practices-in-Change-Management-Full-Repor...      .pdf            4   \n",
       "\n",
       "                                              chunks  \\\n",
       "0  11th EditionBest Practices In  \\nChange Manage...   \n",
       "1  © 2020 Prosci Inc.  •  1\\nProsci ®    Best Pra...   \n",
       "2  © 2020 Prosci Inc.  •  3\\nProsci ®    Best Pra...   \n",
       "3  Chapter 6 : Methodology  ........................   \n",
       "4  4  •  © 2020 Prosci Inc. \\nChapter 8 : Change ...   \n",
       "\n",
       "                                     concise_summary  \n",
       "0  \\n\\nThe 11th edition of Prosci's benchmarking ...  \n",
       "1  \\n \\n \\n \\n \\n                        Write a ...  \n",
       "2   © 2020 Prosci Inc.  •  4Prosci ®    Best Prac...  \n",
       "3   The methodology used to implement a change ma...  \n",
       "4   Chapter 8: Change Management Activities\\nThis...  "
      ]
     },
     "execution_count": 15,
     "metadata": {},
     "output_type": "execute_result"
    }
   ],
   "source": [
    "import pandas as pd\n",
    "from pathlib import Path as p\n",
    "final_mp_data = []\n",
    "for doc, out in zip(map_reduce_outputs[\"input_documents\"], map_reduce_outputs[\"intermediate_steps\"]):\n",
    "    output = {}\n",
    "    output[\"file_name\"] = p(doc.metadata[\"source\"]).stem\n",
    "    output[\"file_type\"] = p(doc.metadata[\"source\"]).suffix\n",
    "    output[\"page_number\"] = doc.metadata[\"page\"]\n",
    "    output[\"chunks\"] = doc.page_content\n",
    "    output[\"concise_summary\"] = out\n",
    "    final_mp_data.append(output)\n",
    "\n",
    "pdf_mp_summary = pd.DataFrame.from_dict(final_mp_data)\n",
    "pdf_mp_summary = pdf_mp_summary.sort_values(\n",
    "    by=[\"file_name\", \"page_number\"]\n",
    ")  # sorting the dataframe by filename and page_number\n",
    "pdf_mp_summary.reset_index(inplace=True, drop=True)\n",
    "pdf_mp_summary.head()"
   ]
  },
  {
   "cell_type": "code",
   "execution_count": 16,
   "metadata": {},
   "outputs": [
    {
     "name": "stdout",
     "output_type": "stream",
     "text": [
      "[Context]\n",
      "Chapter 6 : Methodology  ............................................................................................................................. 105\n",
      "Initiating Change Management .............................................................................................................. 107\n",
      "Application of Methodology  ................................................................................................................... 110\n",
      "Methodologies Used  ............................................................................................................................... 114\n",
      "Chapter 7 : CM Budget, Resources and Team Structure  ...................................................................... 119\n",
      "Change Management Budget  ................................................................................................................ 121\n",
      "Change Management Resources  ........................................................................................................... 127\n",
      "Team Structure Used  .............................................................................................................................. 136\n",
      "\n",
      "\n",
      " [Simple Summary]\n",
      " The methodology used to implement a change management system is outlined in Chapter 6. There are several methodologies that can be used, but the one chosen will depend on the company culture and the size of the organization. This chapter also discusses the budget, resources, and team structure required for a successful change management system. \n",
      "                       'Initiating Change Management' is the first section of the chapter and discusses the initial steps in the implementation of a change management system. This includes identifying the need for change, gathering data, and creating a plan. \n",
      "                       The 'Application of Methodology' section describes the steps taken to implement the chosen methodology. This includes the creation of a project plan, the identification of stakeholders, and the creation of a change management team. \n",
      "                       The final section, 'Methodologies Used', discusses the different methodologies that can be used for change management. These include Agile, Waterfall, and Lean Six Sigma. The strengths and weaknesses of each methodology are outlined. \n",
      "                       Chapter 7 discusses the budget, resources, and team structure required for a successful change management system. The 'Change Management Budget' section outlines the costs associated with implementing a change management system. This includes the costs of training, software, and consulting services. \n",
      "                       The 'Change Management Resources'\n",
      "\n",
      "\n",
      " [Page number]\n",
      "3\n",
      "\n",
      "\n",
      " [Source: file_name]\n",
      "Best-Practices-in-Change-Management-Full-Report-Digital-11th-Edition\n"
     ]
    }
   ],
   "source": [
    "index = 3\n",
    "print(\"[Context]\")\n",
    "print(pdf_mp_summary[\"chunks\"].iloc[index])\n",
    "print(\"\\n\\n [Simple Summary]\")\n",
    "print(pdf_mp_summary[\"concise_summary\"].iloc[index])\n",
    "print(\"\\n\\n [Page number]\")\n",
    "print(pdf_mp_summary[\"page_number\"].iloc[index])\n",
    "print(\"\\n\\n [Source: file_name]\")\n",
    "print(pdf_mp_summary[\"file_name\"].iloc[index])"
   ]
  }
 ],
 "metadata": {
  "kernelspec": {
   "display_name": ".venv",
   "language": "python",
   "name": "python3"
  },
  "language_info": {
   "codemirror_mode": {
    "name": "ipython",
    "version": 3
   },
   "file_extension": ".py",
   "mimetype": "text/x-python",
   "name": "python",
   "nbconvert_exporter": "python",
   "pygments_lexer": "ipython3",
   "version": "3.10.11"
  },
  "orig_nbformat": 4
 },
 "nbformat": 4,
 "nbformat_minor": 2
}
