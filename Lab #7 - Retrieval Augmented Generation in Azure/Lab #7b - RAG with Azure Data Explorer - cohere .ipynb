{
 "cells": [
  {
   "attachments": {},
   "cell_type": "markdown",
   "metadata": {},
   "source": [
    "### *Use LLMs with your Data* \n",
    "### DESCRIPTION\n",
    "Load tens of thousands of Wikipedia articles into Azure Data Explorer.\n",
    "Harness its sub milisecond query capabilities to search your data and combine this with LLM to generate a response with Retrieval Augmented Generation pattern.\n",
    "Use Azure Data Explorer vector store capabilities with embeddings together with Generative AI to generate answers.  \n",
    "\n",
    "\n",
    "### PREPARATION\n",
    "* An ADX (Azure Data Explorer or Kusto) cluster  \n",
    "* In ADX, create a Database named \"llm\"  \n",
    "    <img src=\"../images/1.png\" alt=\"Create Kusto cluster\" /> \n",
    "* Create a table called wikipedia by ingesting data from [\"./data/wikipedia/vector_database_wikipedia_articles_embedded_1000.csv\"](./data/wikipedia/vector_database_wikipedia_articles_embedded_1000.csv)   \n",
    "    <img src=\"../images/2.png\" alt=\"Create Kusto cluster\" /> \n",
    "* Create an AAD app registration for Authentication - see below   \n",
    "    [Create an Azure Active Directory application registration in Azure Data Explorer](https://learn.microsoft.com/en-us/azure/data-explorer/provision-azure-ad-app)\n",
    "\n",
    "* You need to add ADX function as follows:   \n",
    "     Run this on ADX Explorer UI  \n",
    "     \n",
    "```\n",
    "//create the cosine similarity function for embeddings\n",
    ".create-or-alter function with (folder = \"Packages\\\\Series\", docstring = \"Calculate the Cosine similarity of 2 numerical arrays\")\n",
    "series_cosine_similarity_fl(vec1:dynamic, vec2:dynamic, vec1_size:real=double(null), vec2_size:real=double(null))\n",
    "{\n",
    "    let dp = series_dot_product(vec1, vec2);\n",
    "    let v1l = iff(isnull(vec1_size), sqrt(series_dot_product(vec1, vec1)), vec1_size);\n",
    "    let v2l = iff(isnull(vec2_size), sqrt(series_dot_product(vec2, vec2)), vec2_size);\n",
    "    dp/(v1l*v2l)\n",
    "}\n",
    "```"
   ]
  },
  {
   "cell_type": "code",
   "execution_count": 1,
   "metadata": {},
   "outputs": [],
   "source": [
    "import pandas as pd\n",
    "from azure.kusto.data import KustoClient, KustoConnectionStringBuilder\n",
    "from azure.kusto.data.exceptions import KustoServiceError\n",
    "from azure.kusto.data.helpers import dataframe_from_result_table\n",
    "import pandas as pd\n",
    "from ast import literal_eval\n",
    "import os\n",
    "from tenacity import retry, wait_random_exponential, stop_after_attempt\n",
    "from dotenv import load_dotenv\n",
    "\n",
    "# Configure environment variables\n",
    "load_dotenv()\n",
    "\n",
    "AAD_TENANT_ID = os.getenv(\"AAD_TENANT_ID\")\n",
    "KUSTO_CLUSTER = os.getenv(\"KUSTO_CLUSTER\")\n",
    "KUSTO_DATABASE = os.getenv(\"KUSTO_DATABASE\")\n",
    "KUSTO_TABLE = os.getenv(\"KUSTO_TABLE\")\n",
    "KUSTO_MANAGED_IDENTITY_APP_ID = os.getenv(\"KUSTO_MANAGED_IDENTITY_APP_ID\")\n",
    "KUSTO_MANAGED_IDENTITY_SECRET = os.getenv(\"KUSTO_MANAGED_IDENTITY_SECRET\")\n",
    "\n",
    "COHERE_API_KEY = os.getenv(\"COHERE_API_KEY\")\n"
   ]
  },
  {
   "cell_type": "code",
   "execution_count": 2,
   "metadata": {},
   "outputs": [],
   "source": [
    "# Connect to adx using AAD app registration\n",
    "cluster = KUSTO_CLUSTER\n",
    "kcsb = KustoConnectionStringBuilder.with_aad_application_key_authentication(cluster, KUSTO_MANAGED_IDENTITY_APP_ID, KUSTO_MANAGED_IDENTITY_SECRET,  AAD_TENANT_ID)\n",
    "client = KustoClient(kcsb)\n",
    "kusto_db = KUSTO_DATABASE\n",
    "table_name = KUSTO_TABLE"
   ]
  },
  {
   "cell_type": "code",
   "execution_count": 3,
   "metadata": {},
   "outputs": [
    {
     "name": "stdout",
     "output_type": "stream",
     "text": [
      "EventType:Moneyball (film)\n",
      "EventType:Ulysses (novel)\n",
      "EventType:Beirut\n",
      "EventType:Irish people\n",
      "EventType:Arsenal F.C.\n",
      "EventType:Ronda Rousey\n",
      "EventType:Indian cuisine\n",
      "EventType:Alfre Woodard\n",
      "EventType:Tina Turner\n",
      "EventType:Benedetta (film)\n"
     ]
    }
   ],
   "source": [
    "#testing the connection to kusto works - sample query to get the top 10 results from wikipedia\n",
    "query = table_name + \" | take 10\"\n",
    "\n",
    "response = client.execute(kusto_db, query)\n",
    "for row in response.primary_results[0]:\n",
    "    print(\"EventType:{}\".format(row[\"title\"]))"
   ]
  },
  {
   "cell_type": "code",
   "execution_count": 4,
   "metadata": {},
   "outputs": [],
   "source": [
    "import cohere\n",
    "\n",
    "co = cohere.Client(COHERE_API_KEY)\n",
    "\n",
    "@retry(wait=wait_random_exponential(min=1, max=20), stop=stop_after_attempt(6))\n",
    "def embed(query):\n",
    "        queries_array = [query]\n",
    "        response = co.embed(model='multilingual-22-12',texts=queries_array)\n",
    "        return response.embeddings\n",
    "\n",
    "\n",
    "def get_answer(question, nr_of_answers=1):\n",
    "        searchedEmbedding = embed(question)\n",
    "        kusto_query = table_name + \" | extend similarity = series_cosine_similarity_fl(dynamic(\"+str(searchedEmbedding)+\"), emb,1,1) | top \" + str(nr_of_answers) + \" by similarity desc \"\n",
    "        response = client.execute(kusto_db, kusto_query)\n",
    "        return response\n",
    "\n",
    "def ask_question(question, nr_of_answers=1):\n",
    "        response = get_answer(question)\n",
    "\n",
    "        for row in response.primary_results[0]:\n",
    "                print(\"=====================================\")\n",
    "                print(f\"Title:{row['title']} \\n\")\n",
    "                print(f\"Content:{row['text']} \\n\")\n"
   ]
  },
  {
   "cell_type": "code",
   "execution_count": 5,
   "metadata": {},
   "outputs": [
    {
     "name": "stdout",
     "output_type": "stream",
     "text": [
      "Embeddings: [[0.3774414, 0.10998535, -0.049468994, -0.25756836, -0.0104522705, -0.19592285, 0.11340332, -0.33203125, 0.30688477, 0.33642578, -0.08947754, -0.11248779, -0.26098633, 0.54003906, -0.22399902, -0.1973877, 0.2265625, -0.039794922, -0.0019330978, 0.25830078, -0.1381836, 0.42529297, 0.10406494, 0.005710602, 0.066467285, -0.15332031, -0.29248047, 0.28198242, -0.13952637, 0.33422852, 0.24780273, -0.07281494, -0.04071045, 0.4116211, -0.23034668, 0.31689453, 0.07989502, 0.36254883, 0.13952637, 0.6640625, 0.16125488, 0.14575195, -0.058441162, -0.058410645, 0.35375977, -0.33398438, -0.11645508, 0.024230957, -0.3251953, -0.032684326, -0.12054443, -0.019836426, -0.11413574, -0.14697266, -0.57666016, 0.4477539, -0.2866211, 0.5566406, 0.114990234, 0.18237305, 0.26049805, -0.16247559, 0.0181427, -0.014701843, 0.28198242, 0.3071289, -0.06933594, 0.051574707, 0.28051758, 0.34350586, 0.18908691, 0.48828125, 0.55908203, -0.22509766, 0.007507324, -0.11303711, 0.2668457, 0.07720947, 0.3203125, -0.22521973, 0.40527344, -0.11364746, -0.00579834, 0.4230957, 0.09283447, 0.5703125, -0.03466797, 0.044036865, 0.2524414, 0.39746094, -0.30517578, 0.19042969, 0.033050537, -0.10601807, 0.32983398, 0.24829102, 0.17919922, -0.009613037, 0.104003906, 0.05407715, -0.06335449, -0.15625, -0.12219238, 0.72265625, 0.22692871, -0.41381836, -0.09277344, 0.14440918, 0.10418701, 0.1953125, 0.3881836, -0.23364258, 0.22290039, 0.26293945, -0.1418457, -0.16357422, 0.16235352, -0.16455078, -0.12512207, -1.1308594, 0.2758789, 0.22521973, -0.19824219, -0.39501953, 0.117248535, -0.076293945, 0.49975586, -0.26879883, 0.5654297, 0.36401367, 0.042541504, 0.2890625, -0.1796875, 0.6230469, 0.28222656, 0.2734375, 0.109313965, -0.083984375, -0.30932617, -0.23925781, -0.3005371, -0.041229248, 0.17944336, 0.68066406, -0.070495605, 0.29663086, -0.07318115, 0.39916992, -0.0061454773, 0.27929688, 0.25732422, 0.020614624, -0.30517578, 0.68359375, 0.34326172, 0.097717285, 0.26293945, 0.10168457, 0.27807617, 0.3425293, 0.73339844, 0.39794922, -0.1381836, -0.010375977, -0.037506104, -0.15539551, -0.2331543, 0.25048828, 0.4736328, -0.14343262, -0.3527832, 0.08227539, 0.07348633, -0.15661621, 0.3227539, 0.105041504, -0.19006348, 0.03527832, 0.13183594, 0.097229004, 0.1772461, -0.031982422, 0.14233398, 0.10620117, 0.5708008, 0.11437988, 0.109313965, 0.35717773, -0.11895752, -0.0395813, -0.35888672, 0.20458984, 0.6245117, -0.37402344, 0.099487305, 0.25268555, -0.008552551, 0.17480469, -0.060424805, 0.23254395, -0.0098724365, -0.33764648, -0.17407227, 0.21166992, 0.2310791, -0.26098633, -0.0015153885, 0.101501465, -0.19628906, -0.05505371, -0.14355469, 0.10571289, -0.15527344, 0.27661133, -0.26708984, 0.24389648, -0.07940674, -0.2836914, 0.42016602, 0.047180176, -0.21594238, 0.1529541, -0.17443848, -0.1928711, -0.1529541, 0.2578125, -0.15539551, -0.43969727, 0.17785645, 0.17907715, 0.5439453, 0.29858398, -0.27026367, 0.08581543, 0.34106445, 0.3647461, 0.44555664, 0.16687012, -0.18371582, 0.12121582, -0.001294136, -0.064575195, -0.07165527, 0.19995117, 0.3737793, -0.1628418, 0.08929443, -0.13635254, -0.35498047, 0.042510986, 0.18188477, -0.27270508, 0.076171875, 0.39746094, 0.014854431, -0.034851074, -0.06994629, -0.1104126, 0.113342285, 0.19543457, -0.17456055, 0.19995117, 0.24133301, 0.054748535, 0.20056152, -0.1430664, 0.17053223, 0.46704102, 0.10644531, 0.2331543, 0.51464844, -0.19604492, 0.045684814, 0.16430664, -0.34350586, -0.19897461, 0.21789551, 0.10369873, -0.3461914, -0.036132812, 0.5800781, -0.26098633, -0.23046875, 0.7998047, 0.035736084, 0.40625, -0.11047363, 0.14099121, -0.1352539, -0.0869751, 0.13586426, 0.33642578, -0.110839844, -0.38623047, 0.16882324, 0.28930664, -0.015281677, -0.08343506, 0.09411621, 0.41137695, 0.45996094, -0.36889648, -0.15905762, 0.4296875, 0.421875, -0.28222656, -0.14245605, 0.40234375, -0.07128906, 0.14611816, 0.22949219, -0.31201172, 0.027145386, 0.020202637, 0.36132812, 0.54248047, 0.3383789, -0.041534424, 0.32128906, -0.35205078, 0.031188965, 0.14562988, -0.32910156, -0.07904053, 0.30737305, -0.2154541, -0.09240723, -0.46069336, 0.46655273, 0.3605957, 0.63183594, 0.3154297, -0.091918945, -0.10418701, -0.6279297, 0.23095703, -0.060028076, 0.41503906, 0.12109375, -0.37963867, 0.041931152, -0.08276367, -0.028778076, 0.2121582, 0.02999878, 0.25927734, 0.1652832, 0.3474121, 0.3173828, 0.029541016, 0.15942383, 0.18896484, -0.19189453, -0.22961426, 0.2548828, 0.10272217, 0.33642578, 0.0021152496, 0.36206055, -0.24035645, 0.28881836, 0.09667969, -0.010971069, -0.11242676, 0.18310547, 0.27392578, 0.15698242, 0.050201416, -0.0069389343, 0.23535156, 0.21704102, -0.08227539, -0.09387207, 0.22277832, -0.45361328, -0.27783203, -0.31933594, 0.50878906, 0.44458008, 0.06890869, 0.4428711, 0.4489746, 0.16723633, -0.34448242, -0.3491211, -0.03842163, 0.39916992, 0.24267578, 0.16992188, -0.06573486, -0.36108398, -0.08453369, 0.3293457, 0.090270996, -0.19384766, -0.023361206, -0.23632812, 0.12597656, 0.41137695, -0.09527588, 0.08648682, 0.36401367, -0.037597656, 0.5078125, 4.2851562, 0.15490723, 0.26879883, 0.3388672, -0.2199707, 0.18493652, 0.093566895, -0.32910156, 0.16357422, -0.099487305, -0.18920898, -0.04888916, -0.060791016, -0.053863525, 0.022872925, 0.16870117, 0.046783447, 0.095947266, -0.15124512, 0.19665527, -0.5073242, 0.2956543, 0.18237305, 0.028198242, 0.4020996, 0.26879883, -0.01235199, 0.27905273, 0.37890625, 0.12390137, 0.3395996, -0.064697266, -0.06732178, 0.010429382, -0.7783203, 0.53466797, 0.34155273, 0.053863525, -0.011390686, -0.014808655, -0.4321289, 0.20996094, -0.034729004, 0.48754883, -0.17504883, 0.07165527, -0.15820312, 0.7758789, -0.06365967, 0.044128418, 0.4099121, -0.27392578, 0.1920166, -0.24438477, 0.25268555, 0.3815918, 0.06500244, 0.3083496, 0.13391113, -0.06945801, 0.40966797, 0.036621094, 0.61083984, -0.042236328, -0.35131836, -0.0602417, -0.04437256, 0.08856201, 0.3696289, -0.17224121, 0.16577148, 0.35986328, 0.042663574, -0.40356445, 0.28271484, -0.2553711, -0.23132324, 0.07318115, -0.1496582, -0.24072266, 0.17712402, -0.2866211, -0.32666016, -0.014434814, -0.0043296814, 0.38598633, -0.046417236, -0.3803711, 0.2401123, 0.059814453, 0.16174316, 0.13134766, 0.16369629, -0.022262573, -0.35717773, 0.11395264, -0.06298828, -4.0625, 0.29833984, 0.12445068, -0.044677734, 0.04840088, -0.011772156, -0.1607666, 0.2244873, -0.40600586, 0.20092773, 0.28125, 0.09674072, -0.20910645, 0.3540039, 0.29223633, 0.16918945, 0.21411133, 0.084106445, 0.1685791, -0.08807373, 0.26391602, 0.44140625, -0.032073975, 0.07067871, 0.4465332, 0.33740234, 0.0680542, 0.10241699, 0.2607422, 0.14978027, 0.001080513, 0.051239014, 0.43286133, -0.17333984, 0.3322754, 0.32788086, 0.52441406, 0.06262207, 0.16418457, 0.43603516, 0.22692871, 0.33007812, 0.7651367, 0.005306244, 0.1821289, -0.03213501, -0.08520508, 0.33642578, 0.038360596, -0.30200195, 0.2199707, 0.23522949, -0.28930664, 0.14538574, 0.33666992, -0.19042969, 0.23901367, -0.17456055, 0.28637695, 0.32958984, 0.08654785, -0.13183594, 0.24572754, 0.18005371, 0.30859375, -0.22668457, -0.06890869, -0.0647583, 0.08691406, -0.1083374, 0.09472656, 0.055603027, 0.13659668, -0.26220703, -0.001411438, 0.421875, 0.08526611, -0.06958008, 0.6557617, 0.014053345, -0.28564453, 0.26733398, -0.36132812, 0.47851562, 2.6386719, 0.5932617, 2.0898438, 0.5649414, -0.12420654, 0.4477539, -0.26416016, 0.19604492, 0.17565918, 0.21826172, 0.24926758, -0.34350586, 0.043945312, 0.033599854, 0.052001953, -0.19519043, 0.35620117, -0.6591797, 0.31274414, -0.3569336, 0.44873047, 0.0848999, 0.03955078, 0.5644531, 0.20092773, 0.09313965, 0.26000977, 0.11303711, -0.010925293, -0.07287598, -0.0236969, -0.2944336, 0.32006836, 0.4338379, 0.17980957, 0.28686523, 0.05291748, 4.7109375, 0.29785156, -0.12121582, -0.11608887, 0.30419922, 0.14526367, 0.4621582, 0.14782715, 0.09210205, 0.44067383, 0.42651367, 0.34594727, 0.107910156, -0.2211914, 0.03729248, 0.5576172, 0.5283203, 0.09454346, 0.0519104, -0.038085938, 0.124816895, 0.4091797, -0.2824707, -0.016494751, -0.32202148, 0.11993408, 0.014961243, 0.027160645, -0.1586914, -0.066833496, -0.10003662, 5.4960938, -0.1862793, 0.13000488, -0.048095703, -0.29125977, 0.3059082, -0.7285156, -0.22473145, -0.25146484, -0.09234619, 0.21765137, 0.24194336, -0.1796875, 0.5493164, 0.29052734, 0.20739746, -0.032714844, -0.09741211, -0.26464844, 0.0670166, 0.43359375, -0.2619629, 0.31274414, -0.1451416, -0.03326416, -0.0184021, 0.02696228, 0.010673523, -0.07611084, -0.011161804, 0.29833984, 0.36206055, -0.031097412, 0.47753906, -0.053833008, 0.12322998, 0.29052734, 0.07904053, 0.3251953, 0.1640625, 0.052001953, 0.3095703, -0.18554688, -0.06286621, 0.01184845, 0.023635864, -0.2241211, 0.32861328, 0.1730957, -0.11419678, -0.08526611, 0.0826416, 0.89990234, 0.1295166, 0.079956055, 0.40014648, 0.21911621, -0.29711914, 0.04827881, 0.07141113, 0.20471191, 0.16516113, -0.09643555, 0.75634766, 0.35009766, 0.38208008, 0.24108887, -0.019042969, 0.6635742, -0.18200684, -0.07385254, -0.37353516, -0.2388916, 0.18676758, 0.079589844, 0.20019531, 0.1574707, -0.2019043, 0.14831543, -0.0012588501, -0.062469482, -0.3173828, -0.29736328, -0.1303711, -0.10546875, -0.009498596, 0.16662598, -0.1665039, 0.41625977, 0.1986084, 0.33447266, -0.26098633, 0.25683594, 0.03982544, 0.27514648, 0.1463623, 0.1953125, 0.20483398, 0.08892822, 0.1529541, 0.079589844, 0.20422363, -0.05645752, -0.35620117, 0.13171387, -0.117492676, -0.012809753, -0.1340332, 0.3605957, -0.16503906, 0.22998047, 0.018737793, 0.28588867, 0.2644043, -0.021469116]]\n"
     ]
    }
   ],
   "source": [
    "response = embed(\"how is the president of the United States elected?\")\n",
    "print('Embeddings: {}'.format(response))\n"
   ]
  },
  {
   "cell_type": "code",
   "execution_count": 6,
   "metadata": {},
   "outputs": [
    {
     "name": "stdout",
     "output_type": "stream",
     "text": [
      "=====================================\n",
      "Title:The Road to El Dorado \n",
      "\n",
      "Content:Marylata Jacob, who started DreamWorks' music department in 1995, became the film's music supervisor before the script was completed. Consulting with Katzenberg, Jacob decided the musical approach to the film would be world music. In 1996, Tim Rice and Elton John were asked to compose seven songs which they immediately worked on. Their musical process began with Rice first writing the song lyrics and giving them to John to compose the music. John then recorded a demo which was given to the animators who storyboarded to the demo as the tempo and vocals would remain intact. \n",
      "\n"
     ]
    }
   ],
   "source": [
    "# here we get our answer but in a long and non concise way\n",
    "ask_question(\"What is the size of Argentina?\",1)"
   ]
  },
  {
   "cell_type": "code",
   "execution_count": null,
   "metadata": {},
   "outputs": [],
   "source": [
    "# by using a prompt we can ask the LLM model and get answers in a concise manner\n",
    "def ask_gpt(text, question):\n",
    "    prompt = \"\"\"You are a helpful assistant that answers questions.\n",
    "                Answer in a clear and concise manner providing answers only from the text below. If the answer is not in the text, please answer with \"I don't know\".\n",
    "                Text:\n",
    "\n",
    "                \"\"\"\n",
    "    question_prompt = \"\"\"\"\n",
    "                Question:\n",
    "                \"\"\"\n",
    "    prompt = prompt + text + question_prompt + question\n",
    "    response = openai_llm.Completion.create(\n",
    "        engine=utils.OPENAI_DEPLOYMENT_NAME,\n",
    "        prompt=prompt,\n",
    "        temperature=0,\n",
    "        max_tokens=2000,\n",
    "        top_p=0.5,\n",
    "        frequency_penalty=0,\n",
    "        presence_penalty=0,\n",
    "        stop=None)\n",
    "    response = response['choices'][0]['text']\n",
    "    response = utils.remove_chars(\"\\n\", response)\n",
    "    response=utils.start_after_string(\"Answer:\", response)\n",
    "    response=utils.remove_tail_tags(\"<|im_end|>\", response)\n",
    "    return response"
   ]
  },
  {
   "cell_type": "code",
   "execution_count": null,
   "metadata": {},
   "outputs": [],
   "source": [
    "#get the relevant results from the Database\n",
    "answer = get_answer(\"What is the size of Argentina?\",1)\n",
    "text = answer.primary_results[0].rows[0]['text']\n",
    "#send the results to GPT to get a more concise answer\n",
    "ask_gpt(text, \"What is the size of Argentina?\")\n"
   ]
  },
  {
   "cell_type": "code",
   "execution_count": null,
   "metadata": {},
   "outputs": [],
   "source": [
    "ask_gpt(text, \"What is the size of Argentina in km?\")"
   ]
  },
  {
   "cell_type": "code",
   "execution_count": null,
   "metadata": {},
   "outputs": [],
   "source": [
    "ask_gpt(text, \"What is the sweetest fruit?\")"
   ]
  }
 ],
 "metadata": {
  "kernelspec": {
   "display_name": ".venv",
   "language": "python",
   "name": "python3"
  },
  "language_info": {
   "codemirror_mode": {
    "name": "ipython",
    "version": 3
   },
   "file_extension": ".py",
   "mimetype": "text/x-python",
   "name": "python",
   "nbconvert_exporter": "python",
   "pygments_lexer": "ipython3",
   "version": "3.10.11"
  },
  "orig_nbformat": 4
 },
 "nbformat": 4,
 "nbformat_minor": 2
}
