{
 "cells": [
  {
   "cell_type": "code",
   "execution_count": 64,
   "metadata": {},
   "outputs": [],
   "source": [
    "from dotenv import load_dotenv\n",
    "import openai\n",
    "import os\n",
    "from openai import AzureOpenAI\n",
    "\n",
    "load_dotenv()\n",
    "OPENAI_API_KEY = os.getenv(\"OPENAI_API_KEY\")\n",
    "OPENAI_DEPLOYMENT_ENDPOINT = os.getenv(\"OPENAI_DEPLOYMENT_ENDPOINT\")\n",
    "OPENAI_GPT4_DEPLOYMENT_NAME = os.getenv(\"OPENAI_GPT4_DEPLOYMENT_NAME\")\n",
    " \n",
    "AZURE_COMPUTER_VISION_ENDPOINT = os.getenv(\"AZURE_COMPUTER_VISION_ENDPOINT\")\n",
    "AZURE_COMPUTER_VISION_KEY = os.getenv(\"AZURE_COMPUTER_VISION_KEY\")\n"
   ]
  },
  {
   "cell_type": "code",
   "execution_count": 55,
   "metadata": {},
   "outputs": [],
   "source": [
    "import os\n",
    "import json\n",
    "from azure.ai.vision.imageanalysis import ImageAnalysisClient\n",
    "from azure.ai.vision.imageanalysis.models import VisualFeatures\n",
    "from azure.core.credentials import AzureKeyCredential\n",
    "\n",
    "def analyze_image(image_filename):\n",
    "    client = ImageAnalysisClient(\n",
    "        endpoint=AZURE_COMPUTER_VISION_ENDPOINT,\n",
    "        credential=AzureKeyCredential(AZURE_COMPUTER_VISION_KEY)\n",
    "    )\n",
    "\n",
    "    with open(image_filename, \"rb\") as image_stream:\n",
    "        result = client.analyze(\n",
    "            image_stream,\n",
    "            visual_features=[VisualFeatures.CAPTION, VisualFeatures.READ, VisualFeatures.DENSE_CAPTIONS, VisualFeatures.OBJECTS, VisualFeatures.PEOPLE, VisualFeatures.TAGS],\n",
    "            gender_neutral_caption=True,  # Optional (default is False)\n",
    "        )\n",
    "\n",
    "    print(\"Image analysis results:\")\n",
    "    # Print caption results to the console\n",
    "    print(\" Caption:\")\n",
    "    if result.caption is not None:\n",
    "        print(f\"   '{result.caption.text}', Confidence {result.caption.confidence:.4f}\")\n",
    "\n",
    "    result_dict = result.as_dict()\n",
    "    result_json = json.dumps(result_dict)\n",
    "    return result_json\n",
    "            \n"
   ]
  },
  {
   "cell_type": "markdown",
   "metadata": {},
   "source": [
    "#### Analyze a picture using Azure Cognitve services to extract text from a picture"
   ]
  },
  {
   "cell_type": "code",
   "execution_count": 56,
   "metadata": {},
   "outputs": [
    {
     "name": "stdout",
     "output_type": "stream",
     "text": [
      "Image analysis results:\n",
      " Caption:\n",
      "   'a blue and pink polo shirt', Confidence 0.7036\n"
     ]
    }
   ],
   "source": [
    "image_url = \"./data/retail/bike.jpg\"\n",
    "json_result = analyze_image(image_url)"
   ]
  },
  {
   "cell_type": "markdown",
   "metadata": {},
   "source": [
    "#### Extract all dense captions from the json result"
   ]
  },
  {
   "cell_type": "code",
   "execution_count": 57,
   "metadata": {},
   "outputs": [],
   "source": [
    "import json\n",
    "dict = json.loads(json_result)\n",
    "dense_captions = dict[\"denseCaptionsResult\"][\"values\"]\n"
   ]
  },
  {
   "cell_type": "markdown",
   "metadata": {},
   "source": [
    "#### Generate a product description from the text extracted from the photo using OpenAI"
   ]
  },
  {
   "cell_type": "code",
   "execution_count": 61,
   "metadata": {},
   "outputs": [],
   "source": [
    "client = AzureOpenAI(\n",
    "  azure_endpoint = OPENAI_DEPLOYMENT_ENDPOINT, \n",
    "  api_key=OPENAI_API_KEY,  \n",
    "  api_version=\"2024-02-15-preview\"\n",
    ")\n"
   ]
  },
  {
   "cell_type": "code",
   "execution_count": 65,
   "metadata": {},
   "outputs": [],
   "source": [
    "def call_openAI(text):\n",
    "    message_text = [\n",
    "    {\"role\":\"system\",\"content\":\"You are an AI assistant that generates product descriptions for an online retail website especializing in clothing. Given the user's input, generate a Product Description.\"},\n",
    "    {\"role\":\"user\",\"content\":text}]\n",
    "\n",
    "    response = client.chat.completions.create(\n",
    "        model=OPENAI_GPT4_DEPLOYMENT_NAME,\n",
    "        messages = message_text,\n",
    "        temperature=0.7,\n",
    "        max_tokens=800,\n",
    "        top_p=0.95,\n",
    "        frequency_penalty=0,\n",
    "        presence_penalty=0,\n",
    "        stop=None\n",
    "    )\n",
    "\n",
    "    return response.choices[0].message.content"
   ]
  },
  {
   "cell_type": "code",
   "execution_count": 66,
   "metadata": {},
   "outputs": [
    {
     "name": "stdout",
     "output_type": "stream",
     "text": [
      "Option 1: **Title:** Men's Dual-Tone Blue and Pink Cotton Polo Shirt\n",
      "\n",
      "**Product Description:**\n",
      "\n",
      "Elevate your casual wardrobe with the vibrant charm of our Men's Dual-Tone Blue and Pink Cotton Polo Shirt. This stylish polo combines classic comfort with a modern twist, perfect for those who appreciate a pop of color in their everyday attire.\n",
      "\n",
      "**Key Features:**\n",
      "\n",
      "- **Premium Fabric:** Crafted from high-quality, breathable cotton fabric that offers a soft touch against your skin while ensuring long-lasting wear.\n",
      "- **Striking Dual-Tone Design:** The shirt features a bold blue base complemented by eye-catching pink accents, creating a harmonious blend of colors that will stand out in any setting.\n",
      "- **Classic Polo Collar:** A neat, ribbed collar with a two-button placket provides a timeless polo look, blending effortlessly with both casual and semi-formal ensembles.\n",
      "- **Short Sleeves:** The short sleeve design keeps you cool and comfortable, making it ideal for warmer days or as a layering piece.\n",
      "- **Versatile Fit:** A regular fit silhouette ensures ease of movement and a flattering appearance for various body types.\n",
      "- **Subtle Branding:** Finished with a discreet logo embroidery on the chest, adding a touch of elegance and brand recognition without overwhelming the design.\n",
      "- **Easy Care:** This polo shirt is machine washable and maintains its color and shape, making it as practical as it is stylish.\n",
      "\n",
      "**How to Wear:**\n",
      "\n",
      "Pair this versatile polo shirt with chinos and loafers for a polished weekend look, or dress it down with your favorite jeans and sneakers for a relaxed vibe. Whether you're hitting the golf course, attending a casual work meeting, or enjoying a day out with friends, this dual-tone polo ensures you do it in style.\n",
      "\n",
      "Add this Men's Dual-Tone Blue and Pink Cotton Polo Shirt to your collection today, and embrace a splash of color with the perfect blend of comfort and class.\n",
      "Option 2: Product Name: Enchanted Twilight Blue Shirt with Purple and Pink Design\n",
      "\n",
      "Product Description:\n",
      "\n",
      "Embrace a splash of mesmerizing hues with our Enchanted Twilight Blue Shirt, intricately designed to infuse your wardrobe with a touch of whimsy. This captivating shirt is an embodiment of modern elegance and playful charm, perfect for those who love to express their unique style.\n",
      "\n",
      "Key Features:\n",
      "\n",
      "- Color Palette: A serene shade of blue serves as the canvas for vibrant bursts of purple and pink, creating a harmonious and eye-catching design that's sure to turn heads.\n",
      "- Design: The shirt features a tasteful abstract pattern that melds purple and pink tones in a way that's both artistic and fashion-forward. Whether you're looking at the subtle sleeve details or the bold chest accent, this shirt is a testament to creativity in apparel.\n",
      "- Material: Crafted from a soft, breathable fabric that ensures all-day comfort. The material has been selected for its durability and ease of care, making it as practical as it is stylish.\n",
      "- Fit: This shirt offers a flattering fit that's neither too tight nor too loose, suitable for a variety of body types. It's designed to look great tucked in or left out, depending on your preference and the occasion.\n",
      "- Versatility: Perfect for both casual and semi-formal events. Pair it with jeans for a laid-back look or dress it up with slacks for a more polished ensemble.\n",
      "- Sizes: Available in a full range of sizes to accommodate every customer. Please refer to our sizing chart to find your perfect fit.\n",
      "- Care Instructions: Machine washable for easy maintenance. We recommend washing on a gentle cycle with like colors and laying flat to dry to preserve the vibrant design.\n",
      "\n",
      "Add a touch of artistry to your closet with the Enchanted Twilight Blue Shirt. It's not just clothing; it's a statement piece that celebrates color, comfort, and individuality. Shop now and let your style shine brightly!\n",
      "Option 3: Product Name: Classic Blue Button-Down Shirt with Coordinating Tie Set\n",
      "\n",
      "Product Description:\n",
      "\n",
      "Elevate your wardrobe with our Classic Blue Button-Down Shirt and Coordinating Tie Set, the perfect combination for any gentleman seeking a polished and professional look. Crafted from a premium blend of fabrics, this shirt is designed to provide both comfort and durability, ensuring it remains a staple in your collection for years to come.\n",
      "\n",
      "Shirt Features:\n",
      "- Color: Rich, vibrant blue that exudes confidence and style.\n",
      "- Material: A soft and breathable cotton-polyester blend that offers a comfortable fit throughout the day.\n",
      "- Fit: A modern, tailored cut that flatters the body while allowing room for movement.\n",
      "- Collar: A crisp, pointed collar that lays smoothly under the tie for a seamless look.\n",
      "- Closure: Sturdy, pearlescent buttons that provide a secure fit and add a touch of elegance.\n",
      "- Cuffs: Adjustable button cuffs designed to accommodate wristwatches or cufflinks for a personalized touch.\n",
      "- Versatility: Ideal for office wear, formal events, or casual outings when paired with jeans.\n",
      "\n",
      "Tie Features:\n",
      "- Color: A complementary shade or pattern that perfectly matches the blue shirt, adding a touch of sophistication.\n",
      "- Material: A smooth, high-quality fabric that ties neatly and hangs elegantly.\n",
      "- Length and Width: Standard dimensions to fit most adults, ensuring a classic and proportionate knot.\n",
      "- Design: Whether it's a solid color, stripe, or subtle pattern, the tie is selected to enhance the overall appearance and versatility of the shirt.\n",
      "\n",
      "Care Instructions:\n",
      "- Machine wash the shirt in cold water with similar colors. Tumble dry on low and remove promptly to minimize wrinkles.\n",
      "- The tie should be dry cleaned or carefully hand washed to maintain its shape and quality.\n",
      "\n",
      "Whether you're headed to the office, attending a special occasion, or simply looking to impress on a night out, our Classic Blue Button-Down Shirt with Coordinating Tie Set has got you covered. Add this essential duo to your collection today and step out in style with minimal effort and maximum impact.\n"
     ]
    }
   ],
   "source": [
    "count = 1\n",
    "for caption in dense_captions:\n",
    "    result = call_openAI(caption[\"text\"])\n",
    "    print(\"Option \" + str(count) + \": \" + result)\n",
    "    count = count + 1\n"
   ]
  }
 ],
 "metadata": {
  "kernelspec": {
   "display_name": ".venv",
   "language": "python",
   "name": "python3"
  },
  "language_info": {
   "codemirror_mode": {
    "name": "ipython",
    "version": 3
   },
   "file_extension": ".py",
   "mimetype": "text/x-python",
   "name": "python",
   "nbconvert_exporter": "python",
   "pygments_lexer": "ipython3",
   "version": "3.12.2"
  },
  "orig_nbformat": 4
 },
 "nbformat": 4,
 "nbformat_minor": 2
}
