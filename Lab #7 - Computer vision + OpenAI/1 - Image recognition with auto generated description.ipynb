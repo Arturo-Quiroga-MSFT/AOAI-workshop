{
 "cells": [
  {
   "cell_type": "code",
   "execution_count": 1,
   "metadata": {},
   "outputs": [],
   "source": [
    "from dotenv import load_dotenv\n",
    "import openai\n",
    "import os\n",
    "from openai import AzureOpenAI\n",
    "\n",
    "load_dotenv()\n",
    "OPENAI_API_KEY = os.getenv(\"OPENAI_API_KEY\")\n",
    "OPENAI_DEPLOYMENT_ENDPOINT = os.getenv(\"OPENAI_DEPLOYMENT_ENDPOINT\")\n",
    "OPENAI_GPT4o_DEPLOYMENT_NAME = os.getenv(\"OPENAI_GPT4o_DEPLOYMENT_NAME\")\n",
    " \n",
    "AZURE_COMPUTER_VISION_ENDPOINT = os.getenv(\"AZURE_COMPUTER_VISION_ENDPOINT\")\n",
    "AZURE_COMPUTER_VISION_KEY = os.getenv(\"AZURE_COMPUTER_VISION_KEY\")\n"
   ]
  },
  {
   "cell_type": "code",
   "execution_count": 2,
   "metadata": {},
   "outputs": [],
   "source": [
    "import os\n",
    "import json\n",
    "from azure.ai.vision.imageanalysis import ImageAnalysisClient\n",
    "from azure.ai.vision.imageanalysis.models import VisualFeatures\n",
    "from azure.core.credentials import AzureKeyCredential\n",
    "\n",
    "def analyze_image(image_filename):\n",
    "    client = ImageAnalysisClient(\n",
    "        endpoint=AZURE_COMPUTER_VISION_ENDPOINT,\n",
    "        credential=AzureKeyCredential(AZURE_COMPUTER_VISION_KEY)\n",
    "    )\n",
    "\n",
    "    with open(image_filename, \"rb\") as image_stream:\n",
    "        result = client.analyze(\n",
    "            image_stream,\n",
    "            visual_features=[VisualFeatures.CAPTION, VisualFeatures.READ, VisualFeatures.DENSE_CAPTIONS, VisualFeatures.OBJECTS, VisualFeatures.PEOPLE, VisualFeatures.TAGS, VisualFeatures.SMART_CROPS],\n",
    "            gender_neutral_caption=True,  # Optional (default is False)\n",
    "        )\n",
    "\n",
    "    print(\"Image analysis results:\")\n",
    "    print(\" Model version: {}\".format(result.model_version))\n",
    "    # Print caption results to the console\n",
    "    if result.caption is not None:\n",
    "        print(\" Caption:\")    \n",
    "        print(f\"   '{result.caption.text}', Confidence {result.caption.confidence:.4f}\")\n",
    "    if result.dense_captions is not None:\n",
    "        print(\" Dense Captions:\")    \n",
    "        for caption in result.dense_captions.list:\n",
    "            print(f\"   Text: '{caption.text}', Confidence: {caption.confidence}\")\n",
    "    if result.objects is not None:\n",
    "        print(\" Objects:\")    \n",
    "        for caption in result.objects.list:\n",
    "            print(f\"   Text: '{caption.text}', Confidence: {caption.confidence}\")\n",
    "    if result.tags is not None:\n",
    "        print(\" Tags:\")\n",
    "        for caption in result.tags.list:\n",
    "            print(f\"   Text: '{caption.name}', Confidence: {caption.confidence}\")\n",
    "    if result.people is not None:\n",
    "        print(\" People:\")    \n",
    "        print(f\"   '{result.people.list}'\")\n",
    "    if result.smart_crops is not None:\n",
    "        print(\" Smart Crops:\")    \n",
    "        print(f\"   '{result.smart_crops.list}'\")\n",
    "    \n",
    "    result_dict = result.as_dict()\n",
    "    result_json = json.dumps(result_dict)\n",
    "    return result_json\n",
    "            \n"
   ]
  },
  {
   "cell_type": "markdown",
   "metadata": {},
   "source": [
    "#### Analyze a picture using Azure Cognitve services to extract text from a picture"
   ]
  },
  {
   "cell_type": "code",
   "execution_count": 3,
   "metadata": {},
   "outputs": [
    {
     "name": "stdout",
     "output_type": "stream",
     "text": [
      "Image analysis results:\n",
      " Model version: 2023-10-01\n",
      " Caption:\n",
      "   'a blue and pink polo shirt', Confidence 0.7037\n",
      " Dense Captions:\n",
      "   Text: 'a blue and pink polo shirt', Confidence: 0.7117427587509155\n",
      "   Text: 'a blue shirt with purple and pink design', Confidence: 0.6392776966094971\n",
      "   Text: 'a blue shirt with a tie', Confidence: 0.6828346848487854\n",
      " Objects:\n",
      " Tags:\n",
      "   Text: 'clothing', Confidence: 0.999369740486145\n",
      "   Text: 'fabric', Confidence: 0.9067329168319702\n",
      "   Text: 'sleeve', Confidence: 0.9034119248390198\n",
      "   Text: 'collar', Confidence: 0.8999518156051636\n",
      "   Text: 'active shirt', Confidence: 0.8928235769271851\n",
      "   Text: 'top', Confidence: 0.8922902345657349\n",
      "   Text: 'shirt', Confidence: 0.8135350942611694\n",
      "   Text: 'person', Confidence: 0.6144163608551025\n",
      " People:\n",
      "   '[{'boundingBox': {'x': 103, 'y': 0, 'w': 113, 'h': 213}, 'confidence': 0.0026073618791997433}, {'boundingBox': {'x': 0, 'y': 0, 'w': 63, 'h': 223}, 'confidence': 0.0021513751707971096}, {'boundingBox': {'x': 0, 'y': 0, 'w': 162, 'h': 221}, 'confidence': 0.0015311301685869694}, {'boundingBox': {'x': 166, 'y': 0, 'w': 57, 'h': 223}, 'confidence': 0.0013908384134992957}]'\n",
      " Smart Crops:\n",
      "   '[{'aspectRatio': 1.0, 'boundingBox': {'x': 9, 'y': 9, 'w': 206, 'h': 206}}]'\n"
     ]
    }
   ],
   "source": [
    "image_url = \"./data/retail/bike.jpg\"\n",
    "json_result = analyze_image(image_url)"
   ]
  },
  {
   "cell_type": "markdown",
   "metadata": {},
   "source": [
    "#### Extract all dense captions from the json result"
   ]
  },
  {
   "cell_type": "code",
   "execution_count": 4,
   "metadata": {},
   "outputs": [],
   "source": [
    "import json\n",
    "dict = json.loads(json_result)\n",
    "dense_captions = dict[\"denseCaptionsResult\"][\"values\"]\n"
   ]
  },
  {
   "cell_type": "markdown",
   "metadata": {},
   "source": [
    "#### Generate a product description from the text extracted from the photo using OpenAI"
   ]
  },
  {
   "cell_type": "code",
   "execution_count": 5,
   "metadata": {},
   "outputs": [],
   "source": [
    "client = AzureOpenAI(\n",
    "  azure_endpoint = OPENAI_DEPLOYMENT_ENDPOINT, \n",
    "  api_key=OPENAI_API_KEY,  \n",
    "  api_version=\"2024-02-15-preview\"\n",
    ")"
   ]
  },
  {
   "cell_type": "code",
   "execution_count": 6,
   "metadata": {},
   "outputs": [],
   "source": [
    "def call_openAI(text):\n",
    "    message_text = [\n",
    "    {\"role\":\"system\",\"content\":\"You are an AI assistant that generates product descriptions for an online retail website especializing in clothing. Given the user's input, generate a Product Description.\"},\n",
    "    {\"role\":\"user\",\"content\":text}]\n",
    "\n",
    "    response = client.chat.completions.create(\n",
    "        model=OPENAI_GPT4_DEPLOYMENT_NAME,\n",
    "        messages = message_text,\n",
    "        temperature=0.7,\n",
    "        max_tokens=800,\n",
    "        top_p=0.95,\n",
    "        frequency_penalty=0,\n",
    "        presence_penalty=0,\n",
    "        stop=None\n",
    "    )\n",
    "\n",
    "    return response.choices[0].message.content"
   ]
  },
  {
   "cell_type": "code",
   "execution_count": 7,
   "metadata": {},
   "outputs": [
    {
     "name": "stdout",
     "output_type": "stream",
     "text": [
      "Option 1: Product Description:\n",
      "\n",
      "Discover a perfect blend of style and comfort with our Blue and Pink Polo Shirt. This attractive polo shirt is crafted from top-quality, breathable fabric that ensures maximum comfort throughout the day. The shirt features a classic collar and a two-button placket, which adds a touch of sophistication to your casual ensemble. \n",
      "\n",
      "The main attraction of the shirt is its unique color combination. The vibrant shade of blue forms the base, while the delicate pink detailing on the collar and sleeves adds a pop of color, creating a visually pleasing contrast. This design detail sets our polo shirt apart from the usual, making it an essential addition to your wardrobe.\n",
      "\n",
      "Whether you're heading to a casual office day, a lunch out with friends, or a weekend getaway, this Blue and Pink Polo Shirt guarantees a stylish look. It can be paired with jeans, chinos, or shorts for a versatile range of outfits. \n",
      "\n",
      "Stay trendy and comfortable with our Blue and Pink Polo Shirt – your go-to choice for every casual occasion. Available in various sizes, this shirt offers a regular fit, ideal for all body types. \n",
      "\n",
      "Add a splash of color to your collection with this high-quality, stylish, and comfortable polo shirt. Order now and make a fashion statement wherever you go!\n",
      "Option 2: Product Description:\n",
      "\n",
      "Add a splash of color to your wardrobe with our Blue Shirt featuring Purple and Pink Design. This shirt is a contemporary take on classic style, crafted from a blend of premium, breathable materials to provide maximum comfort throughout the day. The vibrant blue base color is beautifully contrasted by the artful purple and pink design, giving this shirt a unique, eye-catching appeal. Suitable for both casual and semi-formal settings, this shirt features a traditional collar, button-down front, and long sleeves that can be rolled up for a more relaxed look. Pair it with your favorite jeans or chinos for an effortlessly stylish outfit. Available in various sizes, this blue shirt with purple and pink design is not just a piece of clothing, but a fashion statement.\n",
      "Option 3: Product Description:\n",
      "\n",
      "Stand out in style with our Blue Shirt and Tie Combo. This set features a classic fit blue shirt that is perfectly tailored for a sleek and comfortable fit. Made from premium quality, breathable cotton material, it ensures you stay cool and comfortable all day long. The shirt flaunts a standard collar and full-length button placket, offering timeless sophistication. \n",
      "\n",
      "The set also includes a complementary tie, adding an element of sartorial elegance to your outfit. The tie showcases a stylish pattern that perfectly contrasts the solid blue shirt, making it an excellent piece for both formal and semi-formal occasions. \n",
      "\n",
      "Whether you're heading to a business meeting or a special event, this Blue Shirt with a Tie set will make you look polished and professional. Pair it with your favorite suit or trousers for a complete ensemble. \n",
      "\n",
      "Care Instructions: Machine washable for easy maintenance. However, to maintain the tie's integrity, we recommend spot-cleaning or dry cleaning. \n",
      "\n",
      "Upgrade your wardrobe with this stylish combo today!\n"
     ]
    }
   ],
   "source": [
    "count = 1\n",
    "for caption in dense_captions:\n",
    "    result = call_openAI(caption[\"text\"])\n",
    "    print(\"Option \" + str(count) + \": \" + result)\n",
    "    count = count + 1\n"
   ]
  }
 ],
 "metadata": {
  "kernelspec": {
   "display_name": ".venv",
   "language": "python",
   "name": "python3"
  },
  "language_info": {
   "codemirror_mode": {
    "name": "ipython",
    "version": 3
   },
   "file_extension": ".py",
   "mimetype": "text/x-python",
   "name": "python",
   "nbconvert_exporter": "python",
   "pygments_lexer": "ipython3",
   "version": "3.11.9"
  },
  "orig_nbformat": 4
 },
 "nbformat": 4,
 "nbformat_minor": 2
}
